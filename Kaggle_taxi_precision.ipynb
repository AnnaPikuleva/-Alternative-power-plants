{
  "nbformat": 4,
  "nbformat_minor": 0,
  "metadata": {
    "colab": {
      "name": "Kaggle_taxi_precision.ipynb",
      "provenance": [],
      "collapsed_sections": [],
      "authorship_tag": "ABX9TyPTAh8TAboKa3Q18jmgB1Ih",
      "include_colab_link": true
    },
    "kernelspec": {
      "name": "python3",
      "display_name": "Python 3"
    },
    "language_info": {
      "name": "python"
    }
  },
  "cells": [
    {
      "cell_type": "markdown",
      "metadata": {
        "id": "view-in-github",
        "colab_type": "text"
      },
      "source": [
        "<a href=\"https://colab.research.google.com/github/AnnaPikuleva/-Alternative-power-plants/blob/main/Kaggle_taxi_precision.ipynb\" target=\"_parent\"><img src=\"https://colab.research.google.com/assets/colab-badge.svg\" alt=\"Open In Colab\"/></a>"
      ]
    },
    {
      "cell_type": "code",
      "execution_count": 4,
      "metadata": {
        "colab": {
          "base_uri": "https://localhost:8080/"
        },
        "id": "7R1mIagvTfYt",
        "outputId": "42430467-17b8-455f-c0c6-6a9036113a0c"
      },
      "outputs": [
        {
          "output_type": "stream",
          "name": "stdout",
          "text": [
            "Looking in indexes: https://pypi.org/simple, https://us-python.pkg.dev/colab-wheels/public/simple/\n",
            "Requirement already satisfied: geopandas in /usr/local/lib/python3.7/dist-packages (0.10.2)\n",
            "Requirement already satisfied: pandas>=0.25.0 in /usr/local/lib/python3.7/dist-packages (from geopandas) (1.3.5)\n",
            "Requirement already satisfied: pyproj>=2.2.0 in /usr/local/lib/python3.7/dist-packages (from geopandas) (3.2.1)\n",
            "Requirement already satisfied: fiona>=1.8 in /usr/local/lib/python3.7/dist-packages (from geopandas) (1.8.21)\n",
            "Requirement already satisfied: shapely>=1.6 in /usr/local/lib/python3.7/dist-packages (from geopandas) (1.8.2)\n",
            "Requirement already satisfied: attrs>=17 in /usr/local/lib/python3.7/dist-packages (from fiona>=1.8->geopandas) (21.4.0)\n",
            "Requirement already satisfied: munch in /usr/local/lib/python3.7/dist-packages (from fiona>=1.8->geopandas) (2.5.0)\n",
            "Requirement already satisfied: six>=1.7 in /usr/local/lib/python3.7/dist-packages (from fiona>=1.8->geopandas) (1.15.0)\n",
            "Requirement already satisfied: click>=4.0 in /usr/local/lib/python3.7/dist-packages (from fiona>=1.8->geopandas) (7.1.2)\n",
            "Requirement already satisfied: certifi in /usr/local/lib/python3.7/dist-packages (from fiona>=1.8->geopandas) (2022.5.18.1)\n",
            "Requirement already satisfied: cligj>=0.5 in /usr/local/lib/python3.7/dist-packages (from fiona>=1.8->geopandas) (0.7.2)\n",
            "Requirement already satisfied: setuptools in /usr/local/lib/python3.7/dist-packages (from fiona>=1.8->geopandas) (57.4.0)\n",
            "Requirement already satisfied: click-plugins>=1.0 in /usr/local/lib/python3.7/dist-packages (from fiona>=1.8->geopandas) (1.1.1)\n",
            "Requirement already satisfied: python-dateutil>=2.7.3 in /usr/local/lib/python3.7/dist-packages (from pandas>=0.25.0->geopandas) (2.8.2)\n",
            "Requirement already satisfied: numpy>=1.17.3 in /usr/local/lib/python3.7/dist-packages (from pandas>=0.25.0->geopandas) (1.21.6)\n",
            "Requirement already satisfied: pytz>=2017.3 in /usr/local/lib/python3.7/dist-packages (from pandas>=0.25.0->geopandas) (2022.1)\n"
          ]
        }
      ],
      "source": [
        "! pip install geopandas"
      ]
    },
    {
      "cell_type": "code",
      "source": [
        "! pip install pysal"
      ],
      "metadata": {
        "id": "NzfIkq3LKZq9"
      },
      "execution_count": null,
      "outputs": []
    },
    {
      "cell_type": "code",
      "source": [
        "import warnings\n",
        "warnings.filterwarnings('ignore')\n",
        "\n",
        "import requests\n",
        "\n",
        "import pandas as pd\n",
        "import geopandas as gpd\n",
        "import numpy as np\n",
        "import seaborn as sns\n",
        "import matplotlib.pyplot as plt\n",
        "\n",
        "from pysal.viz import mapclassify\n",
        "from tqdm import tqdm_notebook as tqdm\n",
        "\n",
        "%matplotlib inline"
      ],
      "metadata": {
        "id": "MkP5oV4zKdQQ"
      },
      "execution_count": 3,
      "outputs": []
    },
    {
      "cell_type": "markdown",
      "source": [
        "TEST"
      ],
      "metadata": {
        "id": "MkP68eRNSavL"
      }
    },
    {
      "cell_type": "code",
      "source": [
        "! gdown 1_o-jT_a_hEpG8Sw_OQySsGB7cGQLpntK"
      ],
      "metadata": {
        "colab": {
          "base_uri": "https://localhost:8080/"
        },
        "id": "80wsq1UBKe1i",
        "outputId": "c74d873e-ca04-48af-9b9c-1c2473b1d395"
      },
      "execution_count": 12,
      "outputs": [
        {
          "output_type": "stream",
          "name": "stdout",
          "text": [
            "Downloading...\n",
            "From: https://drive.google.com/uc?id=1_o-jT_a_hEpG8Sw_OQySsGB7cGQLpntK\n",
            "To: /content/test.csv\n",
            "\r  0% 0.00/983k [00:00<?, ?B/s]\r100% 983k/983k [00:00<00:00, 127MB/s]\n"
          ]
        }
      ]
    },
    {
      "cell_type": "markdown",
      "source": [
        "TRAIN"
      ],
      "metadata": {
        "id": "8Ov_Y5QVSb4S"
      }
    },
    {
      "cell_type": "markdown",
      "source": [
        "https://drive.google.com/file/d/1YXhx33LcbU9N0orl9w3H5XexnPLEHzVB/view?usp=sharing"
      ],
      "metadata": {
        "id": "D1dUmy_TSkaj"
      }
    },
    {
      "cell_type": "code",
      "source": [
        "! gdown 1YXhx33LcbU9N0orl9w3H5XexnPLEHzVB"
      ],
      "metadata": {
        "colab": {
          "base_uri": "https://localhost:8080/"
        },
        "id": "dkZydYcQSpnb",
        "outputId": "d4eb2db9-54bb-4bf7-bbdf-853d8d36ce84"
      },
      "execution_count": 13,
      "outputs": [
        {
          "output_type": "stream",
          "name": "stdout",
          "text": [
            "Downloading...\n",
            "From: https://drive.google.com/uc?id=1YXhx33LcbU9N0orl9w3H5XexnPLEHzVB\n",
            "To: /content/train.csv\n",
            "100% 5.70G/5.70G [00:36<00:00, 155MB/s]\n"
          ]
        }
      ]
    },
    {
      "cell_type": "code",
      "source": [
        "df = pd.read_csv('/content/train.csv')"
      ],
      "metadata": {
        "id": "Y0Gkr283Ljtp"
      },
      "execution_count": null,
      "outputs": []
    },
    {
      "cell_type": "markdown",
      "source": [
        ""
      ],
      "metadata": {
        "id": "TWDYSk4US9gZ"
      }
    },
    {
      "cell_type": "code",
      "source": [
        "df = df[['key','pickup_longitude', 'pickup_latitude',\n",
        "         'dropoff_longitude', 'dropoff_latitude','fare_amount']]"
      ],
      "metadata": {
        "id": "6LrPAjkbTpcy"
      },
      "execution_count": null,
      "outputs": []
    },
    {
      "cell_type": "code",
      "source": [
        "df.head()"
      ],
      "metadata": {
        "id": "m50f8ROTLmWv"
      },
      "execution_count": null,
      "outputs": []
    },
    {
      "cell_type": "markdown",
      "source": [
        "df = df[['key','pickup_longitude', 'pickup_latitude',\n",
        "         'dropoff_longitude', 'dropoff_latitude','fare_amount']]"
      ],
      "metadata": {
        "id": "Ok08CDKUPHc5"
      }
    },
    {
      "cell_type": "code",
      "source": [
        "df = df.sample(frac=1).reset_index(drop=True)"
      ],
      "metadata": {
        "id": "bE0jWUbiLoPf"
      },
      "execution_count": null,
      "outputs": []
    },
    {
      "cell_type": "code",
      "execution_count": null,
      "metadata": {
        "id": "HAGZ8p_9-YXw"
      },
      "outputs": [],
      "source": [
        "plt.scatter(df.pickup_latitude, df.pickup_longitude)"
      ]
    },
    {
      "cell_type": "code",
      "execution_count": null,
      "metadata": {
        "id": "JKdh4lMN-YXw"
      },
      "outputs": [],
      "source": [
        "plt.scatter(df.dropoff_latitude, df.dropoff_longitude)"
      ]
    },
    {
      "cell_type": "code",
      "source": [
        "df.columns"
      ],
      "metadata": {
        "id": "3OZXaXpoR2fG"
      },
      "execution_count": null,
      "outputs": []
    },
    {
      "cell_type": "code",
      "execution_count": null,
      "metadata": {
        "id": "GpKlvxU6-YXw"
      },
      "outputs": [],
      "source": [
        "df.describe()"
      ]
    },
    {
      "cell_type": "code",
      "source": [
        "lon_min = -74.103095\n",
        "lat_min = 40.597399\n",
        "lon_max = -73.729243\n",
        "lat_max = 40.906114\n",
        "\n",
        "ny_bbox = lat_min,lon_min,lat_max,lon_max"
      ],
      "metadata": {
        "id": "_zBH4kY2MWWT"
      },
      "execution_count": null,
      "outputs": []
    },
    {
      "cell_type": "code",
      "source": [
        "df = df[(df.pickup_longitude > lon_min)&\n",
        "   (df.pickup_longitude < lon_max)&\n",
        "   (df.pickup_latitude > lat_min)&\n",
        "   (df.pickup_latitude < lat_max)&\n",
        "   (df.dropoff_longitude > lon_min)&\n",
        "   (df.dropoff_longitude < lon_max)&\n",
        "   (df.dropoff_latitude > lat_min)&\n",
        "   (df.dropoff_latitude < lat_max)].reset_index(drop=True)"
      ],
      "metadata": {
        "id": "5CFP6lEFMY8B"
      },
      "execution_count": null,
      "outputs": []
    },
    {
      "cell_type": "code",
      "source": [
        "plt.scatter(df.pickup_longitude, df.pickup_latitude, alpha=.01)"
      ],
      "metadata": {
        "id": "pC14SyloMiA_"
      },
      "execution_count": null,
      "outputs": []
    },
    {
      "cell_type": "code",
      "source": [
        "import folium\n",
        "from folium.plugins import HeatMap\n",
        "\n",
        "m = folium.Map(location=[40.730610, -73.935242], \n",
        "               zoom_start=11, \n",
        "               tiles='cartodbpositron')\n",
        "\n",
        "heat_data = [[row['pickup_latitude'],row['pickup_longitude']] for index, row in df.iterrows()]\n",
        "\n",
        "\n",
        "HeatMap(heat_data,\n",
        "        radius=10).add_to(m)\n",
        "\n",
        "m"
      ],
      "metadata": {
        "id": "E_cP-N95MpgU"
      },
      "execution_count": null,
      "outputs": []
    },
    {
      "cell_type": "code",
      "source": [
        "from sklearn.model_selection import cross_val_score\n",
        "from xgboost import XGBRegressor"
      ],
      "metadata": {
        "id": "ZlvFs39oMxez"
      },
      "execution_count": null,
      "outputs": []
    },
    {
      "cell_type": "code",
      "source": [
        "from geopy import distance"
      ],
      "metadata": {
        "id": "AJAK75eTPhDr"
      },
      "execution_count": null,
      "outputs": []
    },
    {
      "cell_type": "code",
      "source": [
        "df['gc_distance'] = [distance.great_circle((x1,y1),(x2,y2)).m for x1,y1,x2,y2 in zip(df.pickup_latitude,\n",
        "                                                                           df.pickup_longitude,\n",
        "                                                                          df.dropoff_latitude,\n",
        "                                                                          df.pickup_longitude)]"
      ],
      "metadata": {
        "id": "jZhy-1_WN-Pe"
      },
      "execution_count": null,
      "outputs": []
    },
    {
      "cell_type": "code",
      "source": [
        "df['geo_distance'] = [distance.geodesic((x1,y1),(x2,y2)).m for x1,y1,x2,y2 in zip(df.pickup_latitude,\n",
        "                                                                           df.pickup_longitude,\n",
        "                                                                          df.dropoff_latitude,\n",
        "                                                                          df.pickup_longitude)]"
      ],
      "metadata": {
        "id": "uc_VC_rsOEyH"
      },
      "execution_count": null,
      "outputs": []
    },
    {
      "cell_type": "code",
      "source": [
        "df"
      ],
      "metadata": {
        "id": "1G1I1170Potj"
      },
      "execution_count": null,
      "outputs": []
    },
    {
      "cell_type": "code",
      "source": [
        "X = df.drop('fare_amount', axis=1)\n",
        "y = df['fare_amount']"
      ],
      "metadata": {
        "id": "F2fM4T3DOHZf"
      },
      "execution_count": null,
      "outputs": []
    },
    {
      "cell_type": "code",
      "source": [
        "print('Great circle error: ', abs(round(np.mean(cross_val_score(XGBRegressor().fit(X[['gc_distance']],y),\n",
        "                        X[['gc_distance']], y, cv=5, scoring='neg_mean_absolute_error')),3)),'$')"
      ],
      "metadata": {
        "id": "_QRGg8o6OOf0"
      },
      "execution_count": null,
      "outputs": []
    },
    {
      "cell_type": "code",
      "source": [
        "print('Geodesic error: ', abs(round(np.mean(cross_val_score(XGBRegressor().fit(X[['geo_distance']],y),\n",
        "                        X[['geo_distance']], y, cv=5, scoring='neg_mean_absolute_error')),3)),'$')"
      ],
      "metadata": {
        "id": "2PkZNJfCOf71"
      },
      "execution_count": null,
      "outputs": []
    },
    {
      "cell_type": "markdown",
      "source": [
        "##OSMNX"
      ],
      "metadata": {
        "id": "jtxIFHNcUNGS"
      }
    },
    {
      "cell_type": "markdown",
      "source": [
        "Посчитаем расстояние по графу"
      ],
      "metadata": {
        "id": "33iYsVOaUiPb"
      }
    },
    {
      "cell_type": "code",
      "source": [
        "import networkx as nx\n",
        "import osmnx as ox\n",
        "ox.config(log_console=True, use_cache=True)\n",
        "ox.__version__"
      ],
      "metadata": {
        "id": "Jr3QXjihUF4v"
      },
      "execution_count": null,
      "outputs": []
    },
    {
      "cell_type": "code",
      "source": [
        "G = ox.graph_from_bbox(lat_max, lat_min, lon_max, lon_min,\n",
        "                        network_type='drive')"
      ],
      "metadata": {
        "id": "LY4g3mYPUMmK"
      },
      "execution_count": null,
      "outputs": []
    },
    {
      "cell_type": "code",
      "source": [
        "ox.plot_graph(G, fig_height=20, fig_width=20);"
      ],
      "metadata": {
        "id": "OYz0KXK4UVHO"
      },
      "execution_count": null,
      "outputs": []
    },
    {
      "cell_type": "code",
      "source": [
        "gdf_nodes = ox.graph_to_gdfs(G, edges=False)\n",
        "gdf_nodes.head()"
      ],
      "metadata": {
        "id": "s70EmmMLXrpo"
      },
      "execution_count": null,
      "outputs": []
    },
    {
      "cell_type": "code",
      "source": [
        "from sklearn.neighbors import KDTree\n",
        "tree = KDTree(gdf_nodes[['y', 'x']], metric='euclidean')\n",
        "\n",
        "def find_nearest_node(tree, gdf, point):\n",
        "    \n",
        "    closest_idx = tree.query([(point.y, point.x)], k=1, return_distance=False)[0]\n",
        "    nearest_node = gdf.iloc[closest_idx].index.values[0]\n",
        "    \n",
        "    return nearest_node"
      ],
      "metadata": {
        "id": "gt2-fG46X27w"
      },
      "execution_count": null,
      "outputs": []
    },
    {
      "cell_type": "code",
      "source": [
        "fig, ax = ox.plot_graph_route(G, route,\n",
        "                              show=False, close=False, \n",
        "                              orig_dest_node_color='red',\n",
        "                              route_color='green',\n",
        "                              fig_height=20,\n",
        "                              fig_width=20)\n",
        "\n",
        "plt.show()"
      ],
      "metadata": {
        "id": "cEiVEeo1YDIp"
      },
      "execution_count": null,
      "outputs": []
    },
    {
      "cell_type": "code",
      "source": [
        "m = ox.plot_route_folium(G, \n",
        "                         route, \n",
        "                         route_color='green', route_opacity=0.7, route_width=3)\n",
        "m"
      ],
      "metadata": {
        "id": "hmfpXUP7YFhn"
      },
      "execution_count": null,
      "outputs": []
    },
    {
      "cell_type": "code",
      "source": [
        "def osmnx_route(x1,y1,x2,y2):\n",
        "    node1 = find_nearest_node(tree, gdf_nodes, Point(x1,y1))\n",
        "    node2 = find_nearest_node(tree, gdf_nodes, Point(x2,y2))\n",
        "    \n",
        "    route = nx.shortest_path(G, node1, node2)\n",
        "    route = ox.node_list_to_coordinate_lines(G, route)\n",
        "    return MultiLineString(route)"
      ],
      "metadata": {
        "id": "FePwOnryYG1x"
      },
      "execution_count": null,
      "outputs": []
    },
    {
      "cell_type": "code",
      "source": [
        "routes = []\n",
        "for i, row in tqdm(df.iterrows(), total=df.shape[0]):\n",
        "    try:\n",
        "        routes.append(osmnx_route(row.pickup_longitude, row.pickup_latitude,\n",
        "                       row.dropoff_longitude, row.dropoff_latitude))\n",
        "    except nx.NetworkXNoPath:\n",
        "        routes.append(None)\n",
        "        \n",
        "df['geometry'] = routes\n",
        "df = gpd.GeoDataFrame(df, crs={'init': 'epsg:4326'})\n",
        "\n",
        "df = df.dropna()\n",
        "df = df.to_crs(epsg=32618)\n",
        "\n",
        "df['route_len'] = df.geometry.length"
      ],
      "metadata": {
        "id": "m90z4I2MYIpF"
      },
      "execution_count": null,
      "outputs": []
    },
    {
      "cell_type": "code",
      "execution_count": null,
      "metadata": {
        "id": "lj8Nimms-YX1"
      },
      "outputs": [],
      "source": [
        "X = df.drop('fare_amount', axis=1)\n",
        "y = df['fare_amount']"
      ]
    },
    {
      "cell_type": "code",
      "execution_count": null,
      "metadata": {
        "id": "2w300IDH-YX1"
      },
      "outputs": [],
      "source": [
        "print('Great circle error: ', abs(round(np.mean(cross_val_score(XGBRegressor().fit(X[['gc_distance']],y),\n",
        "                        X[['gc_distance']], y, cv=5, scoring='neg_mean_absolute_error')),3)), '$')\n",
        "print('Road network error: ', abs(round(np.mean(cross_val_score(XGBRegressor().fit(X[['route_len']],y),\n",
        "                        X[['route_len']], y, cv=5, scoring='neg_mean_absolute_error')),3)), '$')"
      ]
    },
    {
      "cell_type": "markdown",
      "source": [
        "##Spatial relations"
      ],
      "metadata": {
        "id": "qUPhujpuYRri"
      }
    },
    {
      "cell_type": "code",
      "execution_count": null,
      "metadata": {
        "id": "GCQnga1J-YX3"
      },
      "outputs": [],
      "source": [
        "geodesic_buffers = gpd.GeoDataFrame()\n",
        "\n",
        "geodesic_buffers['geometry'] = gpd.GeoDataFrame(\n",
        "    geometry=[Point(x) for x in xy]\n",
        ").apply(lambda x: geodesic_point_buffer(x['geometry'].x, x['geometry'].y, 250), axis=1)"
      ]
    },
    {
      "cell_type": "code",
      "execution_count": null,
      "metadata": {
        "id": "kJqIlRN4-YX3"
      },
      "outputs": [],
      "source": [
        "geodesic_buffers.plot()"
      ]
    },
    {
      "cell_type": "code",
      "execution_count": null,
      "metadata": {
        "id": "x622EQRH-YX3"
      },
      "outputs": [],
      "source": [
        "m2 = folium.Map(tiles='cartodbpositron')\n",
        "\n",
        "gjson = geodesic_buffers.to_json()\n",
        "polys = folium.features.GeoJson(gjson)\n",
        "\n",
        "m2.add_children(polys)\n",
        "m2"
      ]
    },
    {
      "cell_type": "markdown",
      "source": [
        "Районы города"
      ],
      "metadata": {
        "id": "mwrcTL0vYxQL"
      }
    },
    {
      "cell_type": "markdown",
      "source": [
        "https://drive.google.com/file/d/1YaToDzd1G25-O7ni5YEf7kw1zO9gQXc4/view?usp=sharing"
      ],
      "metadata": {
        "id": "T9BHl8crZEI5"
      }
    },
    {
      "cell_type": "code",
      "source": [
        "! gdown 1YaToDzd1G25-O7ni5YEf7kw1zO9gQXc4"
      ],
      "metadata": {
        "colab": {
          "base_uri": "https://localhost:8080/"
        },
        "id": "dIG6DKKxZJ_k",
        "outputId": "626ed4dd-f541-4fdf-cb97-cde2f35fb726"
      },
      "execution_count": 1,
      "outputs": [
        {
          "output_type": "stream",
          "name": "stdout",
          "text": [
            "Downloading...\n",
            "From: https://drive.google.com/uc?id=1YaToDzd1G25-O7ni5YEf7kw1zO9gQXc4\n",
            "To: /content/2010 Neighborhood Tabulation Areas (NTAs).geojson\n",
            "\r  0% 0.00/4.48M [00:00<?, ?B/s]\r100% 4.48M/4.48M [00:00<00:00, 62.4MB/s]\n"
          ]
        }
      ]
    },
    {
      "cell_type": "code",
      "execution_count": 2,
      "metadata": {
        "id": "Db08louH-YX3",
        "colab": {
          "base_uri": "https://localhost:8080/",
          "height": 201
        },
        "outputId": "8c76d480-c59b-4d48-f275-418a2f6fefdc"
      },
      "outputs": [
        {
          "output_type": "error",
          "ename": "NameError",
          "evalue": "ignored",
          "traceback": [
            "\u001b[0;31m---------------------------------------------------------------------------\u001b[0m",
            "\u001b[0;31mNameError\u001b[0m                                 Traceback (most recent call last)",
            "\u001b[0;32m<ipython-input-2-0aa97bfb5d93>\u001b[0m in \u001b[0;36m<module>\u001b[0;34m()\u001b[0m\n\u001b[0;32m----> 1\u001b[0;31m \u001b[0mnta\u001b[0m \u001b[0;34m=\u001b[0m \u001b[0mgpd\u001b[0m\u001b[0;34m.\u001b[0m\u001b[0mread_file\u001b[0m\u001b[0;34m(\u001b[0m\u001b[0;34m'/content/2010 Neighborhood Tabulation Areas (NTAs).geojson'\u001b[0m\u001b[0;34m)\u001b[0m\u001b[0;34m\u001b[0m\u001b[0;34m\u001b[0m\u001b[0m\n\u001b[0m\u001b[1;32m      2\u001b[0m \u001b[0mnta\u001b[0m\u001b[0;34m.\u001b[0m\u001b[0mhead\u001b[0m\u001b[0;34m(\u001b[0m\u001b[0;36m2\u001b[0m\u001b[0;34m)\u001b[0m\u001b[0;34m\u001b[0m\u001b[0;34m\u001b[0m\u001b[0m\n",
            "\u001b[0;31mNameError\u001b[0m: name 'gpd' is not defined"
          ]
        }
      ],
      "source": [
        "nta = gpd.read_file('/content/2010 Neighborhood Tabulation Areas (NTAs).geojson')\n",
        "nta.head(2)"
      ]
    },
    {
      "cell_type": "code",
      "source": [
        ""
      ],
      "metadata": {
        "id": "siaUrrJ4ZJiq"
      },
      "execution_count": null,
      "outputs": []
    },
    {
      "cell_type": "code",
      "execution_count": null,
      "metadata": {
        "id": "ADjtkrXg-YX4"
      },
      "outputs": [],
      "source": [
        "nta.plot();"
      ]
    },
    {
      "cell_type": "code",
      "source": [
        "df['geometry'] = [Point(x,y) for x,y in zip (df.pickup_longitude, df.pickup_latitude)]\n",
        "df = gpd.GeoDataFrame(df)\n",
        "\n",
        "df = gpd.sjoin(df, nta[['ntacode', 'geometry']], op='within')\n",
        "df = df.rename(columns={'ntacode':'pickup_nta'})\n",
        "df = df.drop('index_right', axis=1)\n",
        "\n",
        "df['geometry'] = [Point(x,y) for x,y in zip (df.dropoff_longitude, df.dropoff_latitude)]\n",
        "df = gpd.GeoDataFrame(df)\n",
        "\n",
        "df = gpd.sjoin(df, nta[['ntacode', 'geometry']], op='within')\n",
        "df = df.rename(columns={'ntacode':'dropoff_nta'})\n",
        "df = df.drop('index_right', axis=1)\n",
        "df.head()"
      ],
      "metadata": {
        "id": "ATvN3jxSZwRq"
      },
      "execution_count": null,
      "outputs": []
    },
    {
      "cell_type": "code",
      "source": [
        "nta = nta.merge(df.groupby('pickup_nta').count()['key'].rename('pickup_cnt').reset_index(),\n",
        "                left_on='ntacode',\n",
        "                right_on='pickup_nta').drop('pickup_nta', axis=1)\n",
        "nta = nta.merge(df.groupby('dropoff_nta').count()['key'].rename('dropoff_cnt').reset_index(),\n",
        "                left_on='ntacode',\n",
        "                right_on='dropoff_nta').drop('dropoff_nta', axis=1)"
      ],
      "metadata": {
        "id": "xBXtAQ10aDm9"
      },
      "execution_count": null,
      "outputs": []
    },
    {
      "cell_type": "code",
      "execution_count": null,
      "metadata": {
        "id": "QyNYr2ei-YX7"
      },
      "outputs": [],
      "source": [
        "nta = nta.merge(df.groupby('pickup_nta').mean()['fare_amount'].rename('mean_pickup_fare').reset_index(),\n",
        "                left_on='ntacode',\n",
        "               right_on='pickup_nta').drop('pickup_nta', axis=1)\n",
        "nta = nta.merge(df.groupby('dropoff_nta').mean()['fare_amount'].rename('mean_dropoff_fare').reset_index(),\n",
        "                left_on='ntacode',\n",
        "               right_on='dropoff_nta').drop('dropoff_nta', axis=1)"
      ]
    },
    {
      "cell_type": "code",
      "execution_count": null,
      "metadata": {
        "id": "EP48WpiP-YX7"
      },
      "outputs": [],
      "source": [
        "nta.plot('pickup_cnt',\n",
        "           figsize=(10, 15),\n",
        "           cmap='OrRd', \n",
        "           scheme='quantiles',\n",
        "           legend=True);"
      ]
    },
    {
      "cell_type": "raw",
      "metadata": {
        "id": "tzt2mKKO-YX7"
      },
      "source": [
        "['box_plot', 'equal_interval', 'fisher_jenks', 'fisher_jenks_sampled', 'headtail_breaks', 'jenks_caspall', 'jenks_caspall_forced', 'jenks_caspall_sampled', 'max_p_classifier', 'maximum_breaks', 'natural_breaks', 'quantiles', 'percentiles', 'std_mean', 'user_defined']"
      ]
    },
    {
      "cell_type": "code",
      "execution_count": null,
      "metadata": {
        "id": "QcMQ4R95-YX8"
      },
      "outputs": [],
      "source": [
        "nta.plot('pickup_cnt',\n",
        "           figsize=(10, 15),\n",
        "           cmap='OrRd', \n",
        "           scheme='fisher_jenks',\n",
        "           legend=True);"
      ]
    },
    {
      "cell_type": "code",
      "execution_count": null,
      "metadata": {
        "id": "eM3kjSkZ-YX8"
      },
      "outputs": [],
      "source": [
        "from keplergl import KeplerGl"
      ]
    },
    {
      "cell_type": "code",
      "execution_count": null,
      "metadata": {
        "scrolled": false,
        "id": "rd9-AjTi-YX8"
      },
      "outputs": [],
      "source": [
        "kg_map = KeplerGl()\n",
        "kg_map.add_data(nta)\n",
        "kg_map"
      ]
    },
    {
      "cell_type": "code",
      "execution_count": null,
      "metadata": {
        "id": "wFqy41oT-YX8"
      },
      "outputs": [],
      "source": [
        "kg_map2 = KeplerGl()\n",
        "kg_map2.add_data(df, name=\"trips\")\n",
        "kg_map2"
      ]
    },
    {
      "cell_type": "code",
      "execution_count": null,
      "metadata": {
        "id": "zOfSVtX1-YX8"
      },
      "outputs": [],
      "source": [
        "df = df.merge(nta[['ntacode','mean_pickup_fare','pickup_cnt']],\n",
        "              left_on = 'pickup_nta',\n",
        "              right_on='ntacode').drop('ntacode', axis=1)\n",
        "df = df.merge(nta[['ntacode', 'mean_dropoff_fare', 'dropoff_cnt']],\n",
        "              left_on = 'dropoff_nta',\n",
        "              right_on='ntacode').drop('ntacode', axis=1)"
      ]
    },
    {
      "cell_type": "code",
      "execution_count": null,
      "metadata": {
        "id": "MoOixZD8-YX9"
      },
      "outputs": [],
      "source": [
        "X = df.drop('fare_amount', axis=1)\n",
        "y = df['fare_amount']\n",
        "\n",
        "print('Road network error: ', abs(round(np.mean(cross_val_score(XGBRegressor().fit(X[['route_len']],y),\n",
        "                        X[['route_len']], y, cv=5, scoring='neg_mean_absolute_error')),3)),'$')\n",
        "\n",
        "cols = ['route_len', 'pickup_cnt', 'dropoff_cnt', 'mean_pickup_fare', 'mean_dropoff_fare']\n",
        "\n",
        "print('Target encoded to NTAs: ', abs(round(np.mean(cross_val_score(XGBRegressor().fit(X[cols],y),\n",
        "                        X[cols], y, cv=5, scoring='neg_mean_absolute_error')),3)),'$')"
      ]
    },
    {
      "cell_type": "markdown",
      "source": [
        "##OSM amenity data"
      ],
      "metadata": {
        "id": "7ccB1IhXaLv6"
      }
    },
    {
      "cell_type": "code",
      "execution_count": null,
      "metadata": {
        "id": "WiOPDZLM-YX9"
      },
      "outputs": [],
      "source": [
        "overpass_url = \"http://overpass-api.de/api/interpreter\"\n",
        "\n",
        "overpass_query = '''\n",
        "[out:json];\n",
        "(node[\"amenity\"]({},{},{},{});\n",
        ");\n",
        "out center;\n",
        "'''.format(*ny_bbox)\n",
        "\n",
        "response = requests.get(overpass_url, \n",
        "                        params={'data': overpass_query})\n",
        "amenity = response.json()\n",
        "\n",
        "amenity_osm = pd.DataFrame(amenity['elements'])\n",
        "amenity_osm = amenity_osm.join(\n",
        "    pd.DataFrame([x['tags'] for x in amenity['elements']])).drop('tags', axis=1)"
      ]
    },
    {
      "cell_type": "code",
      "execution_count": null,
      "metadata": {
        "id": "YJKlwzUG-YX9"
      },
      "outputs": [],
      "source": [
        "amenity_osm.head(2)"
      ]
    },
    {
      "cell_type": "code",
      "execution_count": null,
      "metadata": {
        "id": "yIdu77Dt-YX9"
      },
      "outputs": [],
      "source": [
        "amenity_osm.amenity.value_counts()[:10]"
      ]
    },
    {
      "cell_type": "code",
      "execution_count": null,
      "metadata": {
        "id": "dlguSXXY-YX9"
      },
      "outputs": [],
      "source": [
        "amenity_osm['geometry'] = [Point(x,y) for x,y in zip(amenity_osm.lon, amenity_osm.lat)]\n",
        "amenity_osm = gpd.GeoDataFrame(amenity_osm)\n",
        "\n",
        "amenity_osm = gpd.sjoin(amenity_osm, nta[['ntacode', 'geometry']], op='within')\n",
        "amenity_osm.head(2)"
      ]
    },
    {
      "cell_type": "code",
      "execution_count": null,
      "metadata": {
        "id": "lju9k0Bh-YX-"
      },
      "outputs": [],
      "source": [
        "top30_amenity = amenity_osm.amenity.value_counts()[:30].index\n",
        "amenity_osm = amenity_osm[amenity_osm.amenity.isin(top30_amenity)]\n",
        "\n",
        "amenity_osm = amenity_osm.groupby(['ntacode','amenity']).size().unstack(fill_value=0).reset_index()"
      ]
    },
    {
      "cell_type": "code",
      "execution_count": null,
      "metadata": {
        "id": "ZXwVHa8p-YX-"
      },
      "outputs": [],
      "source": [
        "amenity_osm.head()"
      ]
    },
    {
      "cell_type": "code",
      "execution_count": null,
      "metadata": {
        "id": "7CL3tH1f-YX-"
      },
      "outputs": [],
      "source": [
        "df = pd.merge(df, amenity_osm, left_on='pickup_nta', right_on='ntacode').drop('ntacode', axis=1)\n",
        "df = pd.merge(df, amenity_osm, left_on='dropoff_nta', right_on='ntacode').drop('ntacode', axis=1)"
      ]
    },
    {
      "cell_type": "code",
      "execution_count": null,
      "metadata": {
        "id": "ReBsnAeV-YX-"
      },
      "outputs": [],
      "source": [
        "df.head()"
      ]
    },
    {
      "cell_type": "code",
      "execution_count": null,
      "metadata": {
        "id": "rhVTzqej-YX-"
      },
      "outputs": [],
      "source": [
        "X = df.drop(['key', 'fare_amount', 'pickup_longitude',\n",
        "       'pickup_latitude', 'dropoff_longitude', 'dropoff_latitude',\n",
        "             'gc_distance', 'geo_distance', 'geometry','pickup_nta', 'dropoff_nta'], axis=1)\n",
        "y = df['fare_amount']"
      ]
    },
    {
      "cell_type": "code",
      "execution_count": null,
      "metadata": {
        "id": "oZasrtHd-YX-"
      },
      "outputs": [],
      "source": [
        "cols = ['route_len', 'pickup_cnt', 'dropoff_cnt', 'mean_pickup_fare', 'mean_dropoff_fare']\n",
        "\n",
        "print('NTA encoded target error: ', abs(round(np.mean(cross_val_score(XGBRegressor().fit(X[cols],y),\n",
        "                        X[cols], y, cv=5, scoring='neg_mean_absolute_error')),3)),'$')\n",
        "\n",
        "print('OSM amenity counts error: ', abs(round(np.mean(cross_val_score(XGBRegressor().fit(X,y),\n",
        "                        X, y, cv=5, scoring='neg_mean_absolute_error')),3)),'$')"
      ]
    }
  ]
}